{
 "cells": [
  {
   "cell_type": "code",
   "execution_count": 2,
   "metadata": {},
   "outputs": [
    {
     "name": "stdout",
     "output_type": "stream",
     "text": [
      " the process took 0.000 seconds\n"
     ]
    }
   ],
   "source": []
  },
  {
   "cell_type": "code",
   "execution_count": 15,
   "metadata": {},
   "outputs": [
    {
     "name": "stdout",
     "output_type": "stream",
     "text": [
      " the process took 4.094 seconds\n"
     ]
    }
   ],
   "source": [
    "## Time for tup creation\n",
    "import time\n",
    "\n",
    "a = 0  # will be used in my loop\n",
    "\n",
    "t1 = time.process_time() # get the current time\n",
    "\n",
    "tup1 = (1,2,3,4) * 10000000\n",
    "\n",
    "\n",
    "elapsed = time.process_time() - t1 \n",
    "\n",
    "print(' the process took {0:.3f} seconds'.format(elapsed))\n",
    "# alternative, using timeit"
   ]
  },
  {
   "cell_type": "code",
   "execution_count": 16,
   "metadata": {},
   "outputs": [
    {
     "name": "stdout",
     "output_type": "stream",
     "text": [
      " the process took 2.453 seconds\n"
     ]
    }
   ],
   "source": [
    "## Time for list creation\n",
    "import time\n",
    "\n",
    "a = 0  # will be used in my loop\n",
    "\n",
    "t1 = time.process_time() # get the current time\n",
    "\n",
    "list1 = [1,2,3,4] * 10000000\n",
    "\n",
    "elapsed = time.process_time() - t1 \n",
    "\n",
    "print(' the process took {0:.3f} seconds'.format(elapsed))\n",
    "# alternative, using timeit"
   ]
  },
  {
   "cell_type": "code",
   "execution_count": 17,
   "metadata": {},
   "outputs": [
    {
     "name": "stdout",
     "output_type": "stream",
     "text": [
      " the process took 0.609 seconds\n"
     ]
    }
   ],
   "source": [
    "## Time for tuple concatenation\n",
    "import time\n",
    "\n",
    "a = 0  # will be used in my loop\n",
    "\n",
    "t1 = time.process_time() # get the current time\n",
    "\n",
    "tup1 + tup1\n",
    "\n",
    "elapsed = time.process_time() - t1 \n",
    "\n",
    "print(' the process took {0:.3f} seconds'.format(elapsed))\n",
    "# alternative, using timeit"
   ]
  },
  {
   "cell_type": "code",
   "execution_count": 18,
   "metadata": {},
   "outputs": [
    {
     "name": "stdout",
     "output_type": "stream",
     "text": [
      " the process took 0.516 seconds\n"
     ]
    }
   ],
   "source": [
    "## Time for list concatenation\n",
    "import time\n",
    "\n",
    "a = 0  # will be used in my loop\n",
    "\n",
    "t1 = time.process_time() # get the current time\n",
    "\n",
    "list1 + list1\n",
    "\n",
    "elapsed = time.process_time() - t1 \n",
    "\n",
    "print(' the process took {0:.3f} seconds'.format(elapsed))\n",
    "# alternative, using timeit"
   ]
  },
  {
   "cell_type": "code",
   "execution_count": 42,
   "metadata": {},
   "outputs": [],
   "source": [
    "list1 = [1,2,3,4] * 10000000\n",
    "list1.sort()"
   ]
  },
  {
   "cell_type": "code",
   "execution_count": 43,
   "metadata": {},
   "outputs": [],
   "source": [
    "import bisect"
   ]
  },
  {
   "cell_type": "code",
   "execution_count": 36,
   "metadata": {},
   "outputs": [
    {
     "name": "stdout",
     "output_type": "stream",
     "text": [
      " the process took 0.188 seconds\n"
     ]
    }
   ],
   "source": [
    "## Time for list concatenation\n",
    "import time\n",
    "\n",
    "a = 0  # will be used in my loop\n",
    "\n",
    "t1 = time.process_time() # get the current time\n",
    "\n",
    "bisect.insort(list1,3)\n",
    "\n",
    "elapsed = time.process_time() - t1 \n",
    "\n",
    "print(' the process took {0:.3f} seconds'.format(elapsed))\n",
    "# alternative, using timeit"
   ]
  },
  {
   "cell_type": "code",
   "execution_count": 40,
   "metadata": {},
   "outputs": [],
   "source": [
    "list1 = [1,2,3,4] * 10000000\n",
    "list1.sort()"
   ]
  },
  {
   "cell_type": "code",
   "execution_count": 41,
   "metadata": {},
   "outputs": [
    {
     "name": "stdout",
     "output_type": "stream",
     "text": [
      " the process took 0.422 seconds\n"
     ]
    }
   ],
   "source": [
    "## Time for list concatenation\n",
    "import time\n",
    "\n",
    "a = 0  # will be used in my loop\n",
    "\n",
    "t1 = time.process_time() # get the current time\n",
    "\n",
    "list1.extend([3])\n",
    "list1.sort()\n",
    "\n",
    "elapsed = time.process_time() - t1 \n",
    "\n",
    "print(' the process took {0:.3f} seconds'.format(elapsed))\n",
    "# alternative, using timeit"
   ]
  }
 ],
 "metadata": {
  "kernelspec": {
   "display_name": "Python 3",
   "language": "python",
   "name": "python3"
  },
  "language_info": {
   "codemirror_mode": {
    "name": "ipython",
    "version": 3
   },
   "file_extension": ".py",
   "mimetype": "text/x-python",
   "name": "python",
   "nbconvert_exporter": "python",
   "pygments_lexer": "ipython3",
   "version": "3.7.0"
  }
 },
 "nbformat": 4,
 "nbformat_minor": 2
}
